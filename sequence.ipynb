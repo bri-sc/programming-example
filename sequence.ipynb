{
 "cells": [
  {
   "cell_type": "markdown",
   "metadata": {},
   "source": [
    "# Programming example"
   ]
  },
  {
   "cell_type": "markdown",
   "metadata": {},
   "source": [
    "This is a Jupyter notebook and allows us to write and execute code in a programming language called Python. This consists of text cells (like this one) and code cells."
   ]
  },
  {
   "cell_type": "markdown",
   "metadata": {},
   "source": [
    "## Sequences"
   ]
  },
  {
   "cell_type": "markdown",
   "metadata": {},
   "source": [
    "### Displaying\n",
    "\n",
    "In this example we're going to display simple sequences using a turtle friend. We will tell him how many steps to walk before turning and he will show us what that looks like:"
   ]
  },
  {
   "cell_type": "code",
   "execution_count": null,
   "metadata": {},
   "outputs": [],
   "source": [
    "from draw import draw_sequence_with_turtle\n",
    "\n",
    "sequence = [100, 100, 100, 100]\n",
    "\n",
    "draw_sequence_with_turtle(sequence)"
   ]
  },
  {
   "cell_type": "markdown",
   "metadata": {},
   "source": [
    "In this case he walked 4 equal paths of 100 steps each and so walked in a square."
   ]
  },
  {
   "cell_type": "markdown",
   "metadata": {},
   "source": [
    "**Exercise:** Can you make the turtle walk a different path? Can you make him form a rectangle?"
   ]
  },
  {
   "cell_type": "code",
   "execution_count": null,
   "metadata": {},
   "outputs": [],
   "source": [
    "## CAN USE CODE CELL (if needed) ##"
   ]
  },
  {
   "cell_type": "code",
   "execution_count": null,
   "metadata": {},
   "outputs": [],
   "source": [
    "## CAN USE CODE CELL (if needed) ##"
   ]
  },
  {
   "cell_type": "code",
   "execution_count": null,
   "metadata": {},
   "outputs": [],
   "source": [
    "## CAN USE CODE CELL (if needed) ##"
   ]
  },
  {
   "cell_type": "markdown",
   "metadata": {},
   "source": [
    "## Creating sequences"
   ]
  },
  {
   "cell_type": "markdown",
   "metadata": {},
   "source": [
    "### Multiples of 13"
   ]
  },
  {
   "cell_type": "markdown",
   "metadata": {},
   "source": [
    "Let's consider a simple sequence containing multiples of 13:\n",
    "\n",
    "    13, 26, 39, 52, 65, 78, ..."
   ]
  },
  {
   "cell_type": "markdown",
   "metadata": {},
   "source": [
    "Rule:\n",
    "\n",
    "    Each value is a multiple of 13 (1 x 13, 2 x 13, 3 x 13, ...)"
   ]
  },
  {
   "cell_type": "markdown",
   "metadata": {},
   "source": [
    "In a code cell, we can store this sequence like this:"
   ]
  },
  {
   "cell_type": "code",
   "execution_count": null,
   "metadata": {},
   "outputs": [],
   "source": [
    "sequence = [13, 26, 39, 52, 65, 78]"
   ]
  },
  {
   "cell_type": "markdown",
   "metadata": {},
   "source": [
    "To see the value stored in `sequence` (called a variable) we can write `print` followed by brackets `(` and `)`. Anything between these brackets will be shown on the screen."
   ]
  },
  {
   "cell_type": "code",
   "execution_count": null,
   "metadata": {},
   "outputs": [],
   "source": [
    "print(sequence)"
   ]
  },
  {
   "cell_type": "markdown",
   "metadata": {},
   "source": [
    "How could we carry on the sequence? We know the rules for this sequence:\n",
    "\n",
    "- 1 * 13\n",
    "- 2 * 13\n",
    "- 3 * 13\n",
    "- 4 * 13\n",
    "\n",
    "...\n",
    "\n",
    "We can use this as a way to find the next values in steps:\n",
    " - Define the number we want to multiply - in this case 13\n",
    " - Define number of values in our sequence - at the moment that is 6 values\n",
    " - Multiply by an increasing number, repeating for each value in our sequence\n",
    "\n",
    "Within Python code we can use the `*` operator to multiply numbers:"
   ]
  },
  {
   "cell_type": "code",
   "execution_count": null,
   "metadata": {},
   "outputs": [],
   "source": [
    "factor = 13\n",
    "\n",
    "value1 = 1 * factor\n",
    "value2 = 2 * factor\n",
    "value3 = 3 * factor\n",
    "value4 = 4 * factor\n",
    "value5 = 5 * factor\n",
    "value6 = 6 * factor\n",
    "\n",
    "sequence = [value1, value2, value3, value4, value5, value6]\n",
    "print(sequence)"
   ]
  },
  {
   "cell_type": "markdown",
   "metadata": {},
   "source": [
    "This includes lots of *repeating steps* and doesn't make it easier to make the sequence longer.\n",
    "\n",
    "A structure we could use to repeat some of these steps for us is called a *loop*. This can be written as:"
   ]
  },
  {
   "cell_type": "code",
   "execution_count": null,
   "metadata": {},
   "outputs": [],
   "source": [
    "for i in range(1, 7):\n",
    "    print(i)"
   ]
  },
  {
   "cell_type": "markdown",
   "metadata": {},
   "source": [
    "In this example this can be used to produce the numbers 1, 2, 3, 4, 5, 6 for us."
   ]
  },
  {
   "cell_type": "markdown",
   "metadata": {},
   "source": [
    "**Exercise:** Can you update this range to print from 1 to 10? Try updating this and re-running the cell."
   ]
  },
  {
   "cell_type": "markdown",
   "metadata": {},
   "source": [
    "We can use this to create the numbers within our sequence:"
   ]
  },
  {
   "cell_type": "code",
   "execution_count": null,
   "metadata": {},
   "outputs": [],
   "source": [
    "factor = 13\n",
    "\n",
    "for i in range(1, 7):\n",
    "    print(i * factor)  # Calculate the new value"
   ]
  },
  {
   "cell_type": "markdown",
   "metadata": {},
   "source": [
    "And we can create an empty sequence to save this to and build this up like this:"
   ]
  },
  {
   "cell_type": "code",
   "execution_count": null,
   "metadata": {},
   "outputs": [],
   "source": [
    "factor = 13\n",
    "\n",
    "sequence = []  # Create empty sequence\n",
    "for i in range(1, 7):\n",
    "    sequence.append(i * factor)  # Add the new value to the end of this sequence\n",
    "\n",
    "print(sequence)"
   ]
  },
  {
   "cell_type": "markdown",
   "metadata": {},
   "source": [
    "We can generalise this by saving our number of sequence values and using this in our loop:"
   ]
  },
  {
   "cell_type": "code",
   "execution_count": null,
   "metadata": {},
   "outputs": [],
   "source": [
    "factor = 13\n",
    "number_in_sequence = 10\n",
    "\n",
    "sequence = []\n",
    "for i in range(1, number_in_sequence + 1):\n",
    "    sequence.append(i * factor)\n",
    "\n",
    "print(sequence)"
   ]
  },
  {
   "cell_type": "markdown",
   "metadata": {},
   "source": [
    "Let's try drawing this sequence:"
   ]
  },
  {
   "cell_type": "code",
   "execution_count": null,
   "metadata": {},
   "outputs": [],
   "source": [
    "draw_sequence_with_turtle(sequence)"
   ]
  },
  {
   "cell_type": "markdown",
   "metadata": {},
   "source": [
    "We can see that each length the turtle has walked is now longer than the previous in an even way, so he has walked in a spiral pattern.\n",
    "\n",
    "**Exercise**: How would we build a longer sequence to continue the spiral? Try it and re-run to see what the turtle does."
   ]
  },
  {
   "cell_type": "markdown",
   "metadata": {},
   "source": [
    "**Exercise**: Try creating a sequence with factors of 7 rather than 13 - what difference does this make to the plot?"
   ]
  },
  {
   "cell_type": "markdown",
   "metadata": {},
   "source": [
    "## Bonus: more sequences"
   ]
  },
  {
   "cell_type": "markdown",
   "metadata": {},
   "source": [
    "### Multiplying by 2"
   ]
  },
  {
   "cell_type": "markdown",
   "metadata": {},
   "source": [
    "Using similiar steps can we consider how to create a sequence which includes multiplies each value by 2:\n",
    "\n",
    "    1, 2, 4, 8, 16, 32, 64, ...\n",
    "\n",
    "Rule:\n",
    "\n",
    "    Multiply previous value by 2"
   ]
  },
  {
   "cell_type": "markdown",
   "metadata": {},
   "source": [
    "Consider the steps as we did before:\n",
    " - Define start value\n",
    " - Set first value in sequence as start value\n",
    " - Define next value by multiplying previous value by 2\n",
    "     - ... Keep repeating last step ...\n",
    "\n",
    "In this case, rather than generating a new number for each repeat we need to use the previous value to define the next one."
   ]
  },
  {
   "cell_type": "code",
   "execution_count": null,
   "metadata": {},
   "outputs": [],
   "source": [
    "start = 1\n",
    "factor = 2\n",
    "\n",
    "value1 = start\n",
    "value2 = value1 * factor\n",
    "value3 = value2 * factor\n",
    "value4 = value3 * factor\n",
    "value5 = value4 * factor\n",
    "value6 = value5 * factor\n",
    "value7 = value6 * factor\n",
    "\n",
    "sequence = [value1, value2, value3, value4, value5, value6, value7]\n",
    "print(sequence)"
   ]
  },
  {
   "cell_type": "markdown",
   "metadata": {},
   "source": [
    "We can use the same variable name, assigning a new value if we like. We can also save the variable to our sequence after each value is calcuated so this could be written as:"
   ]
  },
  {
   "cell_type": "code",
   "execution_count": null,
   "metadata": {},
   "outputs": [],
   "source": [
    "start = 1\n",
    "factor = 2\n",
    "\n",
    "sequence = []\n",
    "\n",
    "value = start\n",
    "sequence.append(value)\n",
    "\n",
    "value = value * factor\n",
    "sequence.append(value)\n",
    "\n",
    "value = value * factor\n",
    "sequence.append(value)\n",
    "\n",
    "value = value * factor\n",
    "sequence.append(value)\n",
    "\n",
    "value = value * factor\n",
    "sequence.append(value)\n",
    "\n",
    "value = value * factor\n",
    "sequence.append(value)\n",
    "\n",
    "# ...\n",
    "\n",
    "print(sequence)"
   ]
  },
  {
   "cell_type": "markdown",
   "metadata": {},
   "source": [
    "We can write group the repeated lines into a loop:"
   ]
  },
  {
   "cell_type": "code",
   "execution_count": null,
   "metadata": {},
   "outputs": [],
   "source": [
    "start = 1\n",
    "factor = 2\n",
    "sequence = []\n",
    "\n",
    "value = start\n",
    "sequence.append(value)\n",
    "\n",
    "for i in range(1, 6):\n",
    "    value = value * factor\n",
    "    sequence.append(value)\n",
    "\n",
    "print(sequence)"
   ]
  },
  {
   "cell_type": "code",
   "execution_count": null,
   "metadata": {},
   "outputs": [],
   "source": [
    "draw_sequence_with_turtle(sequence)"
   ]
  },
  {
   "cell_type": "markdown",
   "metadata": {},
   "source": [
    "**Exercise**: Can you extend this sequence?"
   ]
  },
  {
   "cell_type": "markdown",
   "metadata": {},
   "source": [
    "### Fibonacci\n",
    "\n",
    "    1, 1, 2, 3, 5, 8, 13, ...\n",
    "\n",
    "Rules\n",
    "\n",
    "    First and second numbers are 1\n",
    "    Numbers are the sum of the previous 2 numbers"
   ]
  },
  {
   "cell_type": "markdown",
   "metadata": {},
   "source": [
    "**Exercise**: Can you break this down into steps to create the sequence?"
   ]
  },
  {
   "cell_type": "markdown",
   "metadata": {},
   "source": [
    "**Exercise**: Can you plot this sequence using the turtle?"
   ]
  },
  {
   "cell_type": "code",
   "execution_count": null,
   "metadata": {},
   "outputs": [],
   "source": [
    "## CAN USE CODE CELL (if needed) ##"
   ]
  },
  {
   "cell_type": "code",
   "execution_count": null,
   "metadata": {},
   "outputs": [],
   "source": [
    "## CAN USE CODE CELL (if needed) ##"
   ]
  }
 ],
 "metadata": {
  "kernelspec": {
   "display_name": "Python 3 (ipykernel)",
   "language": "python",
   "name": "python3"
  },
  "language_info": {
   "codemirror_mode": {
    "name": "ipython",
    "version": 3
   },
   "file_extension": ".py",
   "mimetype": "text/x-python",
   "name": "python",
   "nbconvert_exporter": "python",
   "pygments_lexer": "ipython3",
   "version": "3.12.4"
  }
 },
 "nbformat": 4,
 "nbformat_minor": 4
}
