{
 "cells": [
  {
   "cell_type": "markdown",
   "metadata": {},
   "source": [
    "# Programming example"
   ]
  },
  {
   "cell_type": "markdown",
   "metadata": {},
   "source": [
    "This is a Jupyter notebook and allows us to write and execute code in a programming language called Python. This consists of text cells (like this one) and code cells."
   ]
  },
  {
   "cell_type": "markdown",
   "metadata": {},
   "source": [
    "## Sequences"
   ]
  },
  {
   "cell_type": "markdown",
   "metadata": {},
   "source": [
    "### Displaying\n",
    "\n",
    "In this example we're going to display simple sequences using a turtle friend. We will tell him how many steps to walk before turning and he will show us what that looks like:"
   ]
  },
  {
   "cell_type": "code",
   "execution_count": 1,
   "metadata": {},
   "outputs": [
    {
     "name": "stdout",
     "output_type": "stream",
     "text": [
      "Sequence values: [100, 100, 100, 100]\n",
      "\n"
     ]
    },
    {
     "data": {
      "application/vnd.jupyter.widget-view+json": {
       "model_id": "44772b40af8f44b79b44f7dd95712587",
       "version_major": 2,
       "version_minor": 0
      },
      "text/plain": [
       "Canvas(height=400, width=400)"
      ]
     },
     "metadata": {},
     "output_type": "display_data"
    }
   ],
   "source": [
    "from draw import draw_sequence_with_turtle\n",
    "\n",
    "sequence = [100, 100, 100, 100]\n",
    "\n",
    "draw_sequence_with_turtle(sequence)"
   ]
  },
  {
   "cell_type": "markdown",
   "metadata": {},
   "source": [
    "In this case he walked 4 equal paths of 100 steps each and so walked in a square."
   ]
  },
  {
   "cell_type": "markdown",
   "metadata": {},
   "source": [
    "**Exercise**: Can you make the turtle walk a different path? Can you make him form a rectangle?"
   ]
  },
  {
   "cell_type": "code",
   "execution_count": 2,
   "metadata": {},
   "outputs": [],
   "source": [
    "## CAN USE CODE CELL (if needed) ##"
   ]
  },
  {
   "cell_type": "code",
   "execution_count": 3,
   "metadata": {},
   "outputs": [],
   "source": [
    "## CAN USE CODE CELL (if needed) ##"
   ]
  },
  {
   "cell_type": "code",
   "execution_count": 4,
   "metadata": {},
   "outputs": [],
   "source": [
    "## CAN USE CODE CELL (if needed) ##"
   ]
  },
  {
   "cell_type": "markdown",
   "metadata": {},
   "source": [
    "## Creating sequences"
   ]
  },
  {
   "cell_type": "markdown",
   "metadata": {},
   "source": [
    "### Multiples of 13"
   ]
  },
  {
   "cell_type": "markdown",
   "metadata": {},
   "source": [
    "Let's consider a simple sequence containing multiples of 13:\n",
    "\n",
    "    13, 26, 39, 52, 65, 78, ..."
   ]
  },
  {
   "cell_type": "markdown",
   "metadata": {},
   "source": [
    "In a code cell, we can store this sequence like this:"
   ]
  },
  {
   "cell_type": "code",
   "execution_count": 5,
   "metadata": {},
   "outputs": [],
   "source": [
    "sequence = [13, 26, 39, 52, 65, 78]"
   ]
  },
  {
   "cell_type": "markdown",
   "metadata": {},
   "source": [
    "To see the value stored in `sequence` (called a variable) we can write `print` followed by brackets `(` and `)`. Anything between these brackets will be shown on the screen."
   ]
  },
  {
   "cell_type": "code",
   "execution_count": 6,
   "metadata": {},
   "outputs": [
    {
     "name": "stdout",
     "output_type": "stream",
     "text": [
      "[13, 26, 39, 52, 65, 78]\n"
     ]
    }
   ],
   "source": [
    "print(sequence)"
   ]
  },
  {
   "cell_type": "markdown",
   "metadata": {},
   "source": [
    "How could we carry on the sequence? We know the rules for this sequence:\n",
    "\n",
    "- 1 * 13\n",
    "- 2 * 13\n",
    "- 3 * 13\n",
    "- 4 * 13\n",
    "\n",
    "...\n",
    "\n",
    "so we can use this as a way to find the next values in steps:\n",
    " - Define the number we want to multiply - in this case 13\n",
    " - Define number of values in our sequence - at the moment that is 7 values\n",
    " - Multiply by an increasing number, repeating for each value in our sequence"
   ]
  },
  {
   "cell_type": "code",
   "execution_count": 7,
   "metadata": {},
   "outputs": [
    {
     "name": "stdout",
     "output_type": "stream",
     "text": [
      "[13, 26, 39, 52, 65, 78]\n"
     ]
    }
   ],
   "source": [
    "factor = 13\n",
    "\n",
    "value1 = 1 * factor\n",
    "value2 = 2 * factor\n",
    "value3 = 3 * factor\n",
    "value4 = 4 * factor\n",
    "value5 = 5 * factor\n",
    "value6 = 6 * factor\n",
    "\n",
    "sequence = [value1, value2, value3, value4, value5, value6]\n",
    "print(sequence)"
   ]
  },
  {
   "cell_type": "markdown",
   "metadata": {},
   "source": [
    "This includes lots of *repeating steps* and doesn't make it easier to make the sequence longer.\n",
    "\n",
    "A structure we could use to repeat some of these steps for us is called a *loop*. This can be written as:"
   ]
  },
  {
   "cell_type": "code",
   "execution_count": 8,
   "metadata": {},
   "outputs": [
    {
     "name": "stdout",
     "output_type": "stream",
     "text": [
      "1\n",
      "2\n",
      "3\n",
      "4\n",
      "5\n",
      "6\n"
     ]
    }
   ],
   "source": [
    "for i in range(1, 7):\n",
    "    print(i)"
   ]
  },
  {
   "cell_type": "markdown",
   "metadata": {},
   "source": [
    "In this example this can be used to produce the numbers 1, 2, 3, 4, 5, 6 for us."
   ]
  },
  {
   "cell_type": "markdown",
   "metadata": {},
   "source": [
    "**Question**: Can you update this range to print from 1 to 10? Try updating this and re-running the cell."
   ]
  },
  {
   "cell_type": "markdown",
   "metadata": {},
   "source": [
    "We can use this to create the numbers within our sequence:"
   ]
  },
  {
   "cell_type": "code",
   "execution_count": 9,
   "metadata": {},
   "outputs": [
    {
     "name": "stdout",
     "output_type": "stream",
     "text": [
      "13\n",
      "26\n",
      "39\n",
      "52\n",
      "65\n",
      "78\n"
     ]
    }
   ],
   "source": [
    "factor = 13\n",
    "\n",
    "for i in range(1, 7):\n",
    "    print(i * factor)  # Calculate the new value"
   ]
  },
  {
   "cell_type": "markdown",
   "metadata": {},
   "source": [
    "And we can create an empty sequence to save this to and build this up like this:"
   ]
  },
  {
   "cell_type": "code",
   "execution_count": 10,
   "metadata": {},
   "outputs": [
    {
     "name": "stdout",
     "output_type": "stream",
     "text": [
      "[13, 26, 39, 52, 65, 78]\n"
     ]
    }
   ],
   "source": [
    "factor = 13\n",
    "\n",
    "sequence = []  # Create empty sequence\n",
    "for i in range(1, 7):\n",
    "    sequence.append(i * factor)  # Add the new value to the end of this sequence\n",
    "\n",
    "print(sequence)"
   ]
  },
  {
   "cell_type": "markdown",
   "metadata": {},
   "source": [
    "We can generalise this by saving our number of sequence values and using this in our loop:"
   ]
  },
  {
   "cell_type": "code",
   "execution_count": 11,
   "metadata": {},
   "outputs": [
    {
     "name": "stdout",
     "output_type": "stream",
     "text": [
      "[13, 26, 39, 52, 65, 78, 91, 104, 117, 130, 143, 156, 169, 182, 195, 208, 221, 234, 247, 260]\n"
     ]
    }
   ],
   "source": [
    "factor = 13\n",
    "number_in_sequence = 20\n",
    "\n",
    "sequence = []\n",
    "for i in range(1, number_in_sequence + 1):\n",
    "    sequence.append(i * factor)\n",
    "\n",
    "print(sequence)"
   ]
  },
  {
   "cell_type": "markdown",
   "metadata": {},
   "source": [
    "Let's try drawing this sequence:"
   ]
  },
  {
   "cell_type": "code",
   "execution_count": 12,
   "metadata": {},
   "outputs": [
    {
     "name": "stdout",
     "output_type": "stream",
     "text": [
      "Sequence values: [13, 26, 39, 52, 65, 78, 91, 104, 117, 130, 143, 156, 169, 182, 195, 208, 221, 234, 247, 260]\n",
      "\n"
     ]
    },
    {
     "data": {
      "application/vnd.jupyter.widget-view+json": {
       "model_id": "9f264ffdcf7d4a69a65be91e02ab6c02",
       "version_major": 2,
       "version_minor": 0
      },
      "text/plain": [
       "Canvas(height=400, width=400)"
      ]
     },
     "metadata": {},
     "output_type": "display_data"
    }
   ],
   "source": [
    "draw_sequence_with_turtle(sequence)"
   ]
  },
  {
   "cell_type": "markdown",
   "metadata": {},
   "source": [
    "We can see that each length the turtle has walked is now longer than the previous in an even way, so he has walked in a sprial pattern.\n",
    "\n",
    "**Exercise**: How would we build a longer sequence to continue the spiral? Try it and re-run to see what the turtle does."
   ]
  },
  {
   "cell_type": "markdown",
   "metadata": {},
   "source": [
    "**Exercise**: Try creating a sequence with values of 2 rather than 13 - what difference does this make to the plot?"
   ]
  },
  {
   "cell_type": "markdown",
   "metadata": {},
   "source": [
    "### Powers of 2"
   ]
  },
  {
   "cell_type": "markdown",
   "metadata": {},
   "source": [
    "Using similiar steps can we consider how to create a sequence which includes powers of 2:\n",
    "\n",
    "    1, 2, 4, 8, 16, 32, 64, ...\n",
    "\n",
    "Rule:\n",
    " - Multiply previous value by 2"
   ]
  },
  {
   "cell_type": "markdown",
   "metadata": {},
   "source": [
    "Steps:\n",
    " - Define start value\n",
    " - Define next value by multiplying start by 2\n",
    " - Define next value by multiplying previous value by 2\n",
    " - ... Repeat last step 4 more times ..."
   ]
  },
  {
   "cell_type": "code",
   "execution_count": 13,
   "metadata": {},
   "outputs": [
    {
     "name": "stdout",
     "output_type": "stream",
     "text": [
      "1\n",
      "2\n",
      "4\n",
      "8\n",
      "16\n",
      "32\n",
      "64\n"
     ]
    }
   ],
   "source": [
    "start = 1\n",
    "print(start)\n",
    "\n",
    "next = start * 2\n",
    "print(next)\n",
    "\n",
    "next = next * 2\n",
    "print(next)\n",
    "\n",
    "next = next * 2\n",
    "print(next)\n",
    "\n",
    "next = next * 2\n",
    "print(next)\n",
    "\n",
    "next = next * 2\n",
    "print(next)\n",
    "\n",
    "next = next * 2\n",
    "print(next)"
   ]
  },
  {
   "cell_type": "markdown",
   "metadata": {},
   "source": [
    "Steps:\n",
    " - Define start value\n",
    " - Set first value in sequence to the start value\n",
    " - Define next value by multiplying previous value by 2\n",
    " - ... Repeat last step 3 more times ..."
   ]
  },
  {
   "cell_type": "code",
   "execution_count": 14,
   "metadata": {},
   "outputs": [
    {
     "name": "stdout",
     "output_type": "stream",
     "text": [
      "1\n",
      "2\n",
      "4\n",
      "8\n",
      "16\n",
      "32\n",
      "64\n"
     ]
    }
   ],
   "source": [
    "start = 1\n",
    "value = start\n",
    "print(value)\n",
    "\n",
    "value = value * 2\n",
    "print(value)\n",
    "\n",
    "value = value * 2\n",
    "print(value)\n",
    "\n",
    "value = value * 2\n",
    "print(value)\n",
    "\n",
    "value = value * 2\n",
    "print(value)\n",
    "\n",
    "value = value * 2\n",
    "print(value)\n",
    "\n",
    "value = value * 2\n",
    "print(value)"
   ]
  },
  {
   "cell_type": "code",
   "execution_count": 15,
   "metadata": {},
   "outputs": [
    {
     "name": "stdout",
     "output_type": "stream",
     "text": [
      "1\n",
      "2\n",
      "4\n",
      "8\n",
      "16\n",
      "32\n",
      "64\n"
     ]
    }
   ],
   "source": [
    "start = 1\n",
    "value = start\n",
    "print(value)\n",
    "\n",
    "for i in range(1, 7):\n",
    "    value = value * 2\n",
    "    print(value)"
   ]
  },
  {
   "cell_type": "code",
   "execution_count": 16,
   "metadata": {},
   "outputs": [
    {
     "name": "stdout",
     "output_type": "stream",
     "text": [
      "[1, 2, 4, 8, 16, 32, 64]\n"
     ]
    }
   ],
   "source": [
    "start = 1\n",
    "value = start\n",
    "number_in_sequence = 7\n",
    "\n",
    "sequence = []\n",
    "sequence.append(value)\n",
    "\n",
    "for i in range(1, number_in_sequence):\n",
    "    value = value * 2\n",
    "    sequence.append(value)\n",
    "\n",
    "print(sequence)"
   ]
  },
  {
   "cell_type": "code",
   "execution_count": 17,
   "metadata": {},
   "outputs": [
    {
     "name": "stdout",
     "output_type": "stream",
     "text": [
      "Sequence values: [1, 2, 4, 8, 16, 32, 64]\n",
      "\n"
     ]
    },
    {
     "data": {
      "application/vnd.jupyter.widget-view+json": {
       "model_id": "649cf1f6ec924255b1fd79db5a824742",
       "version_major": 2,
       "version_minor": 0
      },
      "text/plain": [
       "Canvas(height=400, width=400)"
      ]
     },
     "metadata": {},
     "output_type": "display_data"
    }
   ],
   "source": [
    "draw_sequence_with_turtle(sequence)"
   ]
  },
  {
   "cell_type": "markdown",
   "metadata": {},
   "source": [
    "### Fibonacci\n",
    "\n",
    "    1, 1, 2, 3, 5, 8, 13, 21, ...\n",
    "\n",
    "Rule:\n",
    " - First and second numbers are 1\n",
    " - Numbers are the sum of the previous 2 numbers"
   ]
  },
  {
   "cell_type": "code",
   "execution_count": null,
   "metadata": {},
   "outputs": [],
   "source": []
  }
 ],
 "metadata": {
  "kernelspec": {
   "display_name": "Python 3 (ipykernel)",
   "language": "python",
   "name": "python3"
  },
  "language_info": {
   "codemirror_mode": {
    "name": "ipython",
    "version": 3
   },
   "file_extension": ".py",
   "mimetype": "text/x-python",
   "name": "python",
   "nbconvert_exporter": "python",
   "pygments_lexer": "ipython3",
   "version": "3.12.4"
  }
 },
 "nbformat": 4,
 "nbformat_minor": 4
}
